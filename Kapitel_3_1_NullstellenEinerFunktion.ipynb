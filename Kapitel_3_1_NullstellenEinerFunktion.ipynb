{
 "cells": [
  {
   "cell_type": "markdown",
   "metadata": {},
   "source": [
    "# 3.1 Nullstellen einer Funktion\n",
    "## 3.1.1 Einführung (Skript)\n",
    "## 3.1.2 Das Newton-Raphson Verfahren\n",
    "\n",
    "In diesem Kapitel wird erklärt, wie man mit Python unter Verwendung des Newton-Raphson Verfahrens Nullstellen von beliebigen Funktionen finden kann. Unten finden Sie ein vollständiges Programm um die Nullstellen der Funktion \n",
    "\n",
    "$$f(x) = {x^2} - 3x + 2 - {e^x}$$\n",
    "\n",
    "zu berechnen. Am Ende des Programms wird ein Plot erstellt, der die Funktion f(x) und deren Nullstellen zeigt.\n",
    "\n",
    "Im Anschluss werden die Teile des Programms ausführlich erläutert. Wenn Sie bisher wenig Erfahrung mit Python haben, sollten Sie diese Teile durcharbeiten. Sie können jederzeit Änderungen im code vornehmen und die Auswirkungen betrachten.\n",
    "\n",
    "\n",
    "\n",
    "\n"
   ]
  },
  {
   "cell_type": "code",
   "execution_count": 1,
   "metadata": {},
   "outputs": [
    {
     "data": {
      "image/png": "[encoded data removed]",
      "text/plain": [
       "<Figure size 432x288 with 2 Axes>"
      ]
     },
     "metadata": {
      "needs_background": "light"
     },
     "output_type": "display_data"
    }
   ],
   "source": [
    "# -*- coding: utf-8 -*-\n",
    "\"\"\"\n",
    "Created on Thu Mar 25 08:59:15 2021\n",
    "\n",
    "@author: Steffen Rasenat\n",
    "\"\"\"\n",
    "\n",
    "#Nullstellensuche mit dem Newton-Raphson Verfahren\n",
    "import sys\n",
    "\n",
    "try:\n",
    "    import matplotlib.pyplot as plt  \n",
    "    import numpy as np\n",
    "except:\n",
    "    print(\"Benötigte module können nicht geladen werden - Abruch des Programms\",file=sys.stderr)\n",
    "    sys.exit(1)\n",
    "\n",
    "#Funktion definieren, deren Nullstelle gesucht wird\n",
    "def f_nullstellen(x):\n",
    "    y=3*x**2-1-np.exp(x)\n",
    "    return y\n",
    "\n",
    "#Implementierung des Newton-Raphson-Verfahrens\n",
    "def NewtonRaphsonMethode(f,xstart):\n",
    "    h=0.001\n",
    "    x=xstart\n",
    "    #Maximal 100 Iterationen erlauben\n",
    "    for i in range(99):\n",
    "        #Ableitung berechnen\n",
    "        f_strich=(f(x+h)-f(x))/h\n",
    "        xneu=x-f(x)/f_strich\n",
    "        if abs(xneu-x)<0.000001:\n",
    "            #print(xneu)\n",
    "            return xneu\n",
    "        x=xneu  \n",
    "\n",
    "#Hauptprogramm\n",
    "xmin=-1.5\n",
    "xmax=1.5\n",
    "dx=0.01\n",
    "x=np.arange(xmin,xmax,dx)\n",
    "y=f_nullstellen(x)\n",
    "\n",
    "nmax=int((xmax-xmin)/dx)  #Anzahl der notwendigen Iterationen berechnen\n",
    "ii=0\n",
    "xzero=[]  #leere Liste erzeugen\n",
    "for i in range(nmax-1):\n",
    "    #Berechnung der Startwerte und Nullstellen:\n",
    "    if y[i]*y[i+1]<=0:  #Vorzeichenwechsel erkennen\n",
    "        xstart=(x[i]+x[i+1])/2 #Startwert berechnen\n",
    "        xzero.append(NewtonRaphsonMethode(f_nullstellen,xstart))\n",
    "        ii=ii+1\n",
    "\n",
    "#zwei Plot-Fenster übereinander erzeugen\n",
    "fig,(ax1,ax2)=plt.subplots(2,1)\n",
    "ax1.plot(x,y)\n",
    "ax1.set_xlabel('x-Achse')\n",
    "ax1.set_ylabel('y-Achse')\n",
    "ax1.set_title('Funktion, deren Nullstellen berechnet werden')\n",
    "ax1.grid(True)\n",
    "txt='Nullstellen:  '\n",
    "for i in range(ii):\n",
    "    txt=txt+'{:4.2f},  '.format(xzero[i])  #formatierten String erzeugen\n",
    "    \n",
    "ax2.set_axis_off()\n",
    "ax2.text(0.0,0.5,txt)\n",
    "fig.savefig('Nullstellensuche.pdf')\n",
    "\n"
   ]
  },
  {
   "cell_type": "markdown",
   "metadata": {},
   "source": [
    "\n",
    "\n",
    "\n",
    "\n",
    "**Erläuterungen zu den einzelnen Programmteilen:**\n",
    "\n",
    "Zu Beginn werden die notwendigen module, hier *numpy* und *matplotlib.pyplot* importiert. Mit *Numpy* werden aufwändige numerische Berechnungen in Python möglich und *matplotlib.pyplot*  benötigt man zum Erstellen von Plots. Die Syntax ist dabei ähnlich zu MATLAB. Das modul *sys* ermöglicht den Abbruch des Programms, falls die module nicht importiert werden können. Die in den modulen hinterlegten Funktionen werden mit modulename.funktion aufgerufen, z.B. sys.exit(1):"
   ]
  },
  {
   "cell_type": "code",
   "execution_count": 2,
   "metadata": {},
   "outputs": [],
   "source": [
    "#Nullstellensuche mit dem Newton-Raphson Verfahren\n",
    "import sys\n",
    "\n",
    "try:\n",
    "    import matplotlib.pyplot as plt  \n",
    "    import numpy as np\n",
    "except:\n",
    "    print(\"Benötigte module können nicht geladen werden - Abruch des Programms\",file=sys.stderr)\n",
    "    sys.exit(1)"
   ]
  },
  {
   "cell_type": "markdown",
   "metadata": {},
   "source": [
    " "
   ]
  },
  {
   "cell_type": "markdown",
   "metadata": {},
   "source": [
    "Dann wird die Funktion, deren Nullstellen bestimmt werden sollen, definiert. In Python wird eine Funktion mit dem Schlüsselwort *def* deklariert. Die Funktion *f_nullstellen* wird mit dem Argument x aufgerufen und gibt den Funktionswert y=f(x) zurück (*return*). Die zur Funktion gehörenden Zeilen werden eingerückt:"
   ]
  },
  {
   "cell_type": "code",
   "execution_count": 3,
   "metadata": {},
   "outputs": [],
   "source": [
    "#Funktion definieren, deren Nullstelle gesucht wird\n",
    "def f_nullstellen(x):\n",
    "    y=3*x**2-1-np.exp(x)\n",
    "    return y"
   ]
  },
  {
   "cell_type": "markdown",
   "metadata": {},
   "source": [
    " "
   ]
  },
  {
   "cell_type": "markdown",
   "metadata": {},
   "source": [
    "Das Newton-Raphson Verfahren wird ebenfalls in eine Funktion ausgelagert. Dadurch ist es wiederverwendbar.\n",
    "\n",
    "Dieser Funktion wird der Name der Funktion, deren Nullstellen berechnet werden sollen und der Startwert übergeben. \n",
    "\n",
    "Die *for*-Schleife durchläuft die Werte 0 bis 99, wodurch maximal 100 Iterationen erlaubt werden.\n",
    "\n",
    "Die Ableitung wird durch den Differenzenquotienten berechnet *f_strich=(f(x+h)-f(x))/h*. \n",
    "\n",
    "Die *if*-Abfrage prüft, ob sich durch die neue Iteration ein *xneu* ergibt, dass sich sehr nahe an dem vorherigen *x*-Wert befindet. Falls dies der Fall ist, wird *xneu* als Nullstelle zurück gegeben und die *for*-Schleife dadurch beendet:\n",
    "\n",
    "\n"
   ]
  },
  {
   "cell_type": "code",
   "execution_count": 4,
   "metadata": {},
   "outputs": [],
   "source": [
    "#Implementierung des Newton-Raphson-Verfahrens\n",
    "def NewtonRaphsonMethode(f,xstart):\n",
    "    h=0.001\n",
    "    x=xstart\n",
    "    #Maximal 100 Iterationen erlauben\n",
    "    for i in range(99):\n",
    "        #Ableitung berechnen\n",
    "        f_strich=(f(x+h)-f(x))/h\n",
    "        xneu=x-f(x)/f_strich\n",
    "        if abs(xneu-x)<0.000001:\n",
    "            #print(xneu)\n",
    "            return xneu\n",
    "        x=xneu  "
   ]
  },
  {
   "cell_type": "markdown",
   "metadata": {},
   "source": [
    " "
   ]
  },
  {
   "cell_type": "markdown",
   "metadata": {},
   "source": [
    " "
   ]
  },
  {
   "cell_type": "markdown",
   "metadata": {},
   "source": [
    "Im \"Hauptprogramm\" werden die Nullstellen berechnet. Im ersten Teil wird ein numpy array durch *np.arange(xmin,xmax,dx)* \n",
    "erzeugt. Das array umfasst die Werte [-1.50, -1.51, -1.52, ..., 1.48, 1.49, 1.50], was durch den Befehl *print(x)* gezeigt werden könnte. Der Befehl*y=f_nullstellen(x)* ruft die entsprechende Funktion auf, in der für jedes Element von x der Funktionswert y berechnet wird. Durch den Befehl *type(y)* könnte gezeigt werden, dass y ebenfalls ein numpy array ist:"
   ]
  },
  {
   "cell_type": "code",
   "execution_count": 5,
   "metadata": {},
   "outputs": [],
   "source": [
    "#Hauptprogramm\n",
    "xmin=-1.5\n",
    "xmax=1.5\n",
    "dx=0.01\n",
    "x=np.arange(xmin,xmax,dx)\n",
    "y=f_nullstellen(x)"
   ]
  },
  {
   "cell_type": "markdown",
   "metadata": {},
   "source": [
    " "
   ]
  },
  {
   "cell_type": "markdown",
   "metadata": {},
   "source": [
    "Nun werden die Nullstellen mit Hilfe der vorher definierten Funktion *NewtonRaphsonMethode* berechnet. Duch *xzero=[]* wird\n",
    "eine leere Liste erzeugt, in der später die Nullstellen geschrieben werden. Die for-Schleife durchläuft die Werte von 0 bis nmax-1. Wird ein Vorzeichenwechsel durch *y[i]*y[i+1]<=0* erkannt, befindet sich zwischen *x[i] und x[i+1]* eine Nullstelle, die dann durch den Aufruf der Funktion *NewtonRaphsonMethode* berechnet wird. Durch den Befehl *xzero.append* werden die Nullstellen in *x[0], x[1], x[2], ...*:"
   ]
  },
  {
   "cell_type": "code",
   "execution_count": 6,
   "metadata": {},
   "outputs": [],
   "source": [
    "nmax=int((xmax-xmin)/dx)  #Anzahl der notwendigen Iterationen berechnen\n",
    "ii=0\n",
    "xzero=[]  #leere Liste erzeugen\n",
    "for i in range(nmax-1):\n",
    "    #Berechnung der Startwerte und Nullstellen:\n",
    "    if y[i]*y[i+1]<=0:  #Vorzeichenwechsel erkennen\n",
    "        xstart=(x[i]+x[i+1])/2 #Startwert berechnen\n",
    "        xzero.append(NewtonRaphsonMethode(f_nullstellen,xstart))\n",
    "        ii=ii+1"
   ]
  },
  {
   "cell_type": "markdown",
   "metadata": {},
   "source": [
    " "
   ]
  },
  {
   "cell_type": "markdown",
   "metadata": {},
   "source": [
    "Im letzten Programmteil wird die Funktion geplottet und die Nullstellen ausgegeben. Der Befehl *fig,(ax1,ax2)=plt.subplots(2,1)* erzeugt zwei übereinanderliegende Plot-Fenster. In das obere Fenster wird die Funktion geplottet und ins untere Fenster werden die Nullstellen geschrieben. Durch *fig.savefig('Nullstellensuche.pdf')* wird das Ergebnis als pdf-File abgespeichert:"
   ]
  },
  {
   "cell_type": "code",
   "execution_count": 7,
   "metadata": {},
   "outputs": [
    {
     "data": {
      "image/png": "[encoded data removed]",
      "text/plain": [
       "<Figure size 432x288 with 2 Axes>"
      ]
     },
     "metadata": {
      "needs_background": "light"
     },
     "output_type": "display_data"
    }
   ],
   "source": [
    "#zwei Plot-Fenster übereinander erzeugen\n",
    "fig,(ax1,ax2)=plt.subplots(2,1)\n",
    "ax1.plot(x,y)\n",
    "ax1.set_xlabel('x-Achse')\n",
    "ax1.set_ylabel('y-Achse')\n",
    "ax1.set_title('Funktion, deren Nullstellen berechnet werden')\n",
    "ax1.grid(True)\n",
    "txt='Nullstellen:  '\n",
    "for i in range(ii):\n",
    "    txt=txt+'{:4.2f},  '.format(xzero[i])  #formatierten String erzeugen\n",
    "    \n",
    "ax2.set_axis_off()\n",
    "ax2.text(0.0,0.5,txt)\n",
    "fig.savefig('Nullstellensuche.pdf')"
   ]
  },
  {
   "cell_type": "markdown",
   "metadata": {},
   "source": [
    "Im nachfolgenden Fenster können Sie die Befehle *print(x), print(type(x)), print(type(y), print(range(99))* etc. testen:"
   ]
  },
  {
   "cell_type": "code",
   "execution_count": 8,
   "metadata": {},
   "outputs": [
    {
     "name": "stdout",
     "output_type": "stream",
     "text": [
      "range(0, 99)\n"
     ]
    }
   ],
   "source": [
    "print(range(99))"
   ]
  },
  {
   "cell_type": "markdown",
   "metadata": {},
   "source": [
    " "
   ]
  },
  {
   "cell_type": "markdown",
   "metadata": {},
   "source": [
    "# \n",
    "## Ergänzung: Nullstellen von Polynomen mit *numpy* bestimmen"
   ]
  },
  {
   "cell_type": "markdown",
   "metadata": {},
   "source": [
    "Für Polynome biete das modul *numpy* Funktionen an, die eine sehr einfach Behandlung dieser Funktionsklasse ermöglichen. Die Erstellung eines Polyomes erfolgt mit dem Befehl *np.poly1d*. Die unabhängige Variable ist standardmäßig *x* und könnte mit dem Befehl *variable='neuerName'* umbenannt werden. Der Aufruf *y.order* gibt den Grad des Polynoms zurück."
   ]
  },
  {
   "cell_type": "code",
   "execution_count": 9,
   "metadata": {
    "scrolled": true
   },
   "outputs": [
    {
     "name": "stdout",
     "output_type": "stream",
     "text": [
      "y=\n",
      "    3     2\n",
      "2 x + 3 x + 4 x + 5\n",
      "Funktionswert: y(3.4)=131.89\n"
     ]
    },
    {
     "data": {
      "text/plain": [
       "Text(0.5, 1.0, 'Polynom vom Grad 3')"
      ]
     },
     "execution_count": 9,
     "metadata": {},
     "output_type": "execute_result"
    },
    {
     "data": {
      "image/png": "[encoded data removed]",
      "text/plain": [
       "<Figure size 432x288 with 1 Axes>"
      ]
     },
     "metadata": {
      "needs_background": "light"
     },
     "output_type": "display_data"
    }
   ],
   "source": [
    "import sys\n",
    "try:\n",
    "    import matplotlib.pyplot as plt  \n",
    "    import numpy as np\n",
    "except:\n",
    "    print(\"Benötigte module können nicht geladen werden - Abruch des Programms\",file=sys.stderr)\n",
    "    sys.exit(1)\n",
    "    \n",
    "y=np.poly1d([2,3,4,5])  #erzeugt ein Polynom 3. Grades \n",
    "                        #mit den Koeffizienten 2,3,4,5\n",
    "print('y=\\n',y)\n",
    "x=3.4\n",
    "print('Funktionswert: y({:.1f})={:.2f}'.format(x,y(x)))\n",
    "x=np.arange(-2,1,0.01)\n",
    "plt.plot(x,y(x))\n",
    "plt.xlabel('x')\n",
    "plt.ylabel('y')\n",
    "plt.grid(True)\n",
    "plt.title('Polynom vom Grad {:d}'.format(y.order))"
   ]
  },
  {
   "cell_type": "markdown",
   "metadata": {},
   "source": [
    "Mit weiteren Funktionen aus numpy können die Koeffizienten und die Nullstellen bestimmt werden:"
   ]
  },
  {
   "cell_type": "code",
   "execution_count": null,
   "metadata": {},
   "outputs": [],
   "source": [
    "grad=y.order\n",
    "print('Grad des Polynoms: ',grad)\n",
    "Koeffizienten=y.coef\n",
    "print('Koeffizienten:',Koeffizienten)\n",
    "Nullstellen=np.roots(y)\n",
    "txt='Nullstellen: '\n",
    "for i in range(grad):\n",
    "    txt=txt+'{:4.3f},    '.format(Nullstellen[i])  #formatierten String erzeugen\n",
    "print(txt)\n"
   ]
  },
  {
   "cell_type": "markdown",
   "metadata": {},
   "source": [
    " "
   ]
  },
  {
   "cell_type": "markdown",
   "metadata": {},
   "source": [
    "Es können auch komplexe Nullstellen berechnet werden. Im untenstehenden Programm werden die Koeffizienten von der Konsole eingelesen, das Polynom geplottet und die Nullstellen berechnet. Die Koeffizienten müssen bei der Eingabe mit Kommas getrennt werden:"
   ]
  },
  {
   "cell_type": "code",
   "execution_count": null,
   "metadata": {},
   "outputs": [],
   "source": [
    "import sys\n",
    "try:\n",
    "    import matplotlib.pyplot as plt  \n",
    "    import numpy as np\n",
    "except:\n",
    "    print(\"Benötigte module können nicht geladen werden - Abruch des Programms\",file=sys.stderr)\n",
    "    sys.exit(1)\n",
    "    \n",
    "\n",
    "a=list(map(float,input('Koeffizienten eingeben (a_n, a_n-1, ...,a_1,a_0): ').split(',')))\n",
    "#Die Python Funktion 'map' führt für jeden Koeffizienten, der als einzelner, String vorliegt (wg. .split), eine\n",
    "#Konvertierung in float durch. Mit Hilfe von 'map' können Schleifen eingespart werden\n",
    "y=np.poly1d(a)\n",
    "print('Polynom {:d}. Ordnung: \\n'.format(y.order))\n",
    "print(y)\n",
    "\n",
    "Nullstellen=np.roots(y)\n",
    "\n",
    "#Die folgenden Codezeilen dienen lediglich zum Erzeugen eines Plots, bei dem die reellen Nullstellen sichtbar sind,\n",
    "#d.h. zum Festlegen eines geeigneten Bereichs für die x-Koordinate\n",
    "ii=0\n",
    "reelle_Nullstellen=[]\n",
    "for i in range(y.order):\n",
    "    if abs(Nullstellen[i].imag)<=0.0000000001:\n",
    "        reelle_Nullstellen.append(Nullstellen[i].real)\n",
    "        ii=ii+1\n",
    "if ii==0: \n",
    "    xmin=-4\n",
    "    xmax=4\n",
    "    plt.axis([xmin,xmax,-100,100])\n",
    "if ii==1:\n",
    "    xmin=reelle_Nullstellen[0]-1\n",
    "    xmax=reelle_Nullstellen[0]+1\n",
    "if ii>1:\n",
    "    xmin=min(reelle_Nullstellen)\n",
    "    xmax=max(reelle_Nullstellen)\n",
    "\n",
    "dx2=(xmax-xmin)/8   \n",
    "x=np.arange(xmin-dx2,xmax+dx2,0.01)    \n",
    "plt.plot(x,y(x))\n",
    "plt.xlabel('x')\n",
    "plt.ylabel('y')\n",
    "plt.grid(True)\n",
    "plt.title('Polynom vom Grad {:d}'.format(y.order))\n",
    "txt='Nullstellen: '\n",
    "for i in range(y.order):\n",
    "    txt=txt+'{:4.3f},    '.format(Nullstellen[i])  #formatierten String erzeugen\n",
    "print('\\n',txt)"
   ]
  }
 ],
 "metadata": {
  "kernelspec": {
   "display_name": "Python 3 (ipykernel)",
   "language": "python",
   "name": "python3"
  },
  "language_info": {
   "codemirror_mode": {
    "name": "ipython",
    "version": 3
   },
   "file_extension": ".py",
   "mimetype": "text/x-python",
   "name": "python",
   "nbconvert_exporter": "python",
   "pygments_lexer": "ipython3",
   "version": "3.9.7"
  }
 },
 "nbformat": 4,
 "nbformat_minor": 4
}
